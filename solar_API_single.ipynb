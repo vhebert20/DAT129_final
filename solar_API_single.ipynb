{
 "cells": [
  {
   "cell_type": "markdown",
   "metadata": {},
   "source": [
    "### NREL Solar Resource Data - single lat/long import"
   ]
  },
  {
   "cell_type": "markdown",
   "metadata": {},
   "source": [
    "##### **DATA RETURNED**  \n",
    "Average Direct Normal Irradiance - measured surface perpendicular to direct solar rays (avg_dni)  \n",
    "Average Global Horizontal Irradiance - measured surface horizontal to the ground (avg_ghi)  \n",
    "Average Tilt at Latitude (avg_lat_tilt)  \n"
   ]
  },
  {
   "cell_type": "markdown",
   "metadata": {},
   "source": [
    "##### **INFORMATION & RESEARCH**\n",
    "https://developer.nrel.gov/docs/solar/solar-resource-v1/   \n",
    "https://en.wikipedia.org/wiki/Solar_irradiance  \n",
    "https://www.3tier.com/en/support/solar-online-tools/what-global-horizontal-irradiance-solar-prospecting/  \n",
    "https://www.pveducation.org/pvcdrom/properties-of-sunlight/measurement-of-solar-radiation   \n"
   ]
  },
  {
   "cell_type": "code",
   "execution_count": null,
   "metadata": {},
   "outputs": [],
   "source": [
    "import pandas as pd\n",
    "import csv\n",
    "import requests, json, csv"
   ]
  },
  {
   "cell_type": "code",
   "execution_count": null,
   "metadata": {},
   "outputs": [],
   "source": [
    "# query using lat / long\n",
    "lat = input(\"LATITUDE, in decimal degrees: \")\n",
    "long = input(\"LONGITUDE, in decimal degrees: \")\n",
    "API_ENDPOINT = 'https://developer.nrel.gov/api/solar/solar_resource/v1.json?api_key=aO3yoslbHz6Pg9vrVdVGjA47Jrv1TnjOfOhDJj0L&lat=%s&lon=%s' % (lat,long)\n",
    "full_url = API_ENDPOINT\n",
    "print()\n",
    "print('URL: ', full_url)    "
   ]
  },
  {
   "cell_type": "markdown",
   "metadata": {},
   "source": [
    "# OR"
   ]
  },
  {
   "cell_type": "code",
   "execution_count": null,
   "metadata": {},
   "outputs": [],
   "source": [
    "# query using address\n",
    "address = input(\"address: \") # use plus sign in place of spaces\n",
    "API_ENDPOINT = 'https://developer.nrel.gov/api/solar/solar_resource/v1.json?api_key=aO3yoslbHz6Pg9vrVdVGjA47Jrv1TnjOfOhDJj0L&address=%s' % (address)\n",
    "full_url = API_ENDPOINT\n",
    "print()\n",
    "print('URL: ', full_url)"
   ]
  },
  {
   "cell_type": "markdown",
   "metadata": {},
   "source": [
    "# THEN"
   ]
  },
  {
   "cell_type": "code",
   "execution_count": null,
   "metadata": {
    "scrolled": false
   },
   "outputs": [],
   "source": [
    "# send out the request for information\n",
    "response = requests.get(full_url)\n",
    "# check its status to see if all is well\n",
    "print('Made request, response status: ', response.status_code)\n",
    "# determine if any results were returned\n",
    "if response.status_code == 200:\n",
    "    results = json.loads(response.text)\n",
    "else:\n",
    "    None "
   ]
  },
  {
   "cell_type": "code",
   "execution_count": null,
   "metadata": {},
   "outputs": [],
   "source": [
    "# view all query results\n",
    "for key, value in results.items():\n",
    "    print(key, value)"
   ]
  },
  {
   "cell_type": "code",
   "execution_count": null,
   "metadata": {},
   "outputs": [],
   "source": [
    "# view output values\n",
    "for key, value in results['outputs'].items():\n",
    "    print(key, value)"
   ]
  },
  {
   "cell_type": "code",
   "execution_count": null,
   "metadata": {},
   "outputs": [],
   "source": [
    "print('Annual Average Direct Normal Irradiance: ')\n",
    "print(results['outputs']['avg_dni']['annual'])"
   ]
  },
  {
   "cell_type": "code",
   "execution_count": null,
   "metadata": {},
   "outputs": [],
   "source": [
    "information = results['outputs']\n",
    "print('Annual Monthly Direct Normal Irradiance: ')\n",
    "for key, value in information['avg_dni']['monthly'].items():\n",
    "    print('%s , %s\\n' % (key, value), end=\"\")"
   ]
  },
  {
   "cell_type": "code",
   "execution_count": null,
   "metadata": {},
   "outputs": [],
   "source": []
  }
 ],
 "metadata": {
  "kernelspec": {
   "display_name": "Python 3",
   "language": "python",
   "name": "python3"
  },
  "language_info": {
   "codemirror_mode": {
    "name": "ipython",
    "version": 3
   },
   "file_extension": ".py",
   "mimetype": "text/x-python",
   "name": "python",
   "nbconvert_exporter": "python",
   "pygments_lexer": "ipython3",
   "version": "3.8.5"
  }
 },
 "nbformat": 4,
 "nbformat_minor": 4
}
